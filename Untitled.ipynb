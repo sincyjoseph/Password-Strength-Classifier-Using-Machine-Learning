{
 "cells": [
  {
   "cell_type": "markdown",
   "id": "562db889",
   "metadata": {},
   "source": [
    "### Dataset Link:https://www.kaggle.com/bhavikbb/password-strength-classifier-dataset"
   ]
  },
  {
   "cell_type": "markdown",
   "id": "ff1e94cc",
   "metadata": {},
   "source": [
    "## Import Libraries"
   ]
  },
  {
   "cell_type": "code",
   "execution_count": 1,
   "id": "3545ceb3",
   "metadata": {},
   "outputs": [],
   "source": [
    "import pandas as pd\n",
    "import numpy as np\n",
    "import seaborn as sns\n",
    "import matplotlib.pyplot as plt\n",
    "from sklearn.feature_extraction.text import TfidfVectorizer\n",
    "from sklearn.model_selection import train_test_split\n",
    "import warnings\n",
    "warnings.filterwarnings(\"ignore\")"
   ]
  },
  {
   "cell_type": "code",
   "execution_count": 2,
   "id": "0e5ecd87",
   "metadata": {},
   "outputs": [
    {
     "name": "stderr",
     "output_type": "stream",
     "text": [
      "b'Skipping line 2810: expected 2 fields, saw 5\\nSkipping line 4641: expected 2 fields, saw 5\\nSkipping line 7171: expected 2 fields, saw 5\\nSkipping line 11220: expected 2 fields, saw 5\\nSkipping line 13809: expected 2 fields, saw 5\\nSkipping line 14132: expected 2 fields, saw 5\\nSkipping line 14293: expected 2 fields, saw 5\\nSkipping line 14865: expected 2 fields, saw 5\\nSkipping line 17419: expected 2 fields, saw 5\\nSkipping line 22801: expected 2 fields, saw 5\\nSkipping line 25001: expected 2 fields, saw 5\\nSkipping line 26603: expected 2 fields, saw 5\\nSkipping line 26742: expected 2 fields, saw 5\\nSkipping line 29702: expected 2 fields, saw 5\\nSkipping line 32767: expected 2 fields, saw 5\\nSkipping line 32878: expected 2 fields, saw 5\\nSkipping line 35643: expected 2 fields, saw 5\\nSkipping line 36550: expected 2 fields, saw 5\\nSkipping line 38732: expected 2 fields, saw 5\\nSkipping line 40567: expected 2 fields, saw 5\\nSkipping line 40576: expected 2 fields, saw 5\\nSkipping line 41864: expected 2 fields, saw 5\\nSkipping line 46861: expected 2 fields, saw 5\\nSkipping line 47939: expected 2 fields, saw 5\\nSkipping line 48628: expected 2 fields, saw 5\\nSkipping line 48908: expected 2 fields, saw 5\\nSkipping line 57582: expected 2 fields, saw 5\\nSkipping line 58782: expected 2 fields, saw 5\\nSkipping line 58984: expected 2 fields, saw 5\\nSkipping line 61518: expected 2 fields, saw 5\\nSkipping line 63451: expected 2 fields, saw 5\\nSkipping line 68141: expected 2 fields, saw 5\\nSkipping line 72083: expected 2 fields, saw 5\\nSkipping line 74027: expected 2 fields, saw 5\\nSkipping line 77811: expected 2 fields, saw 5\\nSkipping line 83958: expected 2 fields, saw 5\\nSkipping line 85295: expected 2 fields, saw 5\\nSkipping line 88665: expected 2 fields, saw 5\\nSkipping line 89198: expected 2 fields, saw 5\\nSkipping line 92499: expected 2 fields, saw 5\\nSkipping line 92751: expected 2 fields, saw 5\\nSkipping line 93689: expected 2 fields, saw 5\\nSkipping line 94776: expected 2 fields, saw 5\\nSkipping line 97334: expected 2 fields, saw 5\\nSkipping line 102316: expected 2 fields, saw 5\\nSkipping line 103421: expected 2 fields, saw 5\\nSkipping line 106872: expected 2 fields, saw 5\\nSkipping line 109363: expected 2 fields, saw 5\\nSkipping line 110117: expected 2 fields, saw 5\\nSkipping line 110465: expected 2 fields, saw 5\\nSkipping line 113843: expected 2 fields, saw 5\\nSkipping line 115634: expected 2 fields, saw 5\\nSkipping line 121518: expected 2 fields, saw 5\\nSkipping line 123692: expected 2 fields, saw 5\\nSkipping line 124708: expected 2 fields, saw 5\\nSkipping line 129608: expected 2 fields, saw 5\\nSkipping line 133176: expected 2 fields, saw 5\\nSkipping line 135532: expected 2 fields, saw 5\\nSkipping line 138042: expected 2 fields, saw 5\\nSkipping line 139485: expected 2 fields, saw 5\\nSkipping line 140401: expected 2 fields, saw 5\\nSkipping line 144093: expected 2 fields, saw 5\\nSkipping line 149850: expected 2 fields, saw 5\\nSkipping line 151831: expected 2 fields, saw 5\\nSkipping line 158014: expected 2 fields, saw 5\\nSkipping line 162047: expected 2 fields, saw 5\\nSkipping line 164515: expected 2 fields, saw 5\\nSkipping line 170313: expected 2 fields, saw 5\\nSkipping line 171325: expected 2 fields, saw 5\\nSkipping line 171424: expected 2 fields, saw 5\\nSkipping line 175920: expected 2 fields, saw 5\\nSkipping line 176210: expected 2 fields, saw 5\\nSkipping line 183603: expected 2 fields, saw 5\\nSkipping line 190264: expected 2 fields, saw 5\\nSkipping line 191683: expected 2 fields, saw 5\\nSkipping line 191988: expected 2 fields, saw 5\\nSkipping line 195450: expected 2 fields, saw 5\\nSkipping line 195754: expected 2 fields, saw 5\\nSkipping line 197124: expected 2 fields, saw 5\\nSkipping line 199263: expected 2 fields, saw 5\\nSkipping line 202603: expected 2 fields, saw 5\\nSkipping line 209960: expected 2 fields, saw 5\\nSkipping line 213218: expected 2 fields, saw 5\\nSkipping line 217060: expected 2 fields, saw 5\\nSkipping line 220121: expected 2 fields, saw 5\\nSkipping line 223518: expected 2 fields, saw 5\\nSkipping line 226293: expected 2 fields, saw 5\\nSkipping line 227035: expected 2 fields, saw 7\\nSkipping line 227341: expected 2 fields, saw 5\\nSkipping line 227808: expected 2 fields, saw 5\\nSkipping line 228516: expected 2 fields, saw 5\\nSkipping line 228733: expected 2 fields, saw 5\\nSkipping line 232043: expected 2 fields, saw 5\\nSkipping line 232426: expected 2 fields, saw 5\\nSkipping line 234490: expected 2 fields, saw 5\\nSkipping line 239626: expected 2 fields, saw 5\\nSkipping line 240461: expected 2 fields, saw 5\\nSkipping line 244518: expected 2 fields, saw 5\\nSkipping line 245395: expected 2 fields, saw 5\\nSkipping line 246168: expected 2 fields, saw 5\\nSkipping line 246655: expected 2 fields, saw 5\\nSkipping line 246752: expected 2 fields, saw 5\\nSkipping line 247189: expected 2 fields, saw 5\\nSkipping line 250276: expected 2 fields, saw 5\\nSkipping line 255327: expected 2 fields, saw 5\\nSkipping line 257094: expected 2 fields, saw 5\\n'\n",
      "b'Skipping line 264626: expected 2 fields, saw 5\\nSkipping line 265028: expected 2 fields, saw 5\\nSkipping line 269150: expected 2 fields, saw 5\\nSkipping line 271360: expected 2 fields, saw 5\\nSkipping line 273975: expected 2 fields, saw 5\\nSkipping line 274742: expected 2 fields, saw 5\\nSkipping line 276227: expected 2 fields, saw 5\\nSkipping line 279807: expected 2 fields, saw 5\\nSkipping line 283425: expected 2 fields, saw 5\\nSkipping line 287468: expected 2 fields, saw 5\\nSkipping line 292995: expected 2 fields, saw 5\\nSkipping line 293496: expected 2 fields, saw 5\\nSkipping line 293735: expected 2 fields, saw 5\\nSkipping line 295060: expected 2 fields, saw 5\\nSkipping line 296643: expected 2 fields, saw 5\\nSkipping line 296848: expected 2 fields, saw 5\\nSkipping line 308926: expected 2 fields, saw 5\\nSkipping line 310360: expected 2 fields, saw 5\\nSkipping line 317004: expected 2 fields, saw 5\\nSkipping line 318207: expected 2 fields, saw 5\\nSkipping line 331783: expected 2 fields, saw 5\\nSkipping line 333864: expected 2 fields, saw 5\\nSkipping line 335958: expected 2 fields, saw 5\\nSkipping line 336290: expected 2 fields, saw 5\\nSkipping line 343526: expected 2 fields, saw 5\\nSkipping line 343857: expected 2 fields, saw 5\\nSkipping line 344059: expected 2 fields, saw 5\\nSkipping line 348691: expected 2 fields, saw 5\\nSkipping line 353446: expected 2 fields, saw 5\\nSkipping line 357073: expected 2 fields, saw 5\\nSkipping line 359753: expected 2 fields, saw 5\\nSkipping line 359974: expected 2 fields, saw 5\\nSkipping line 366534: expected 2 fields, saw 5\\nSkipping line 369514: expected 2 fields, saw 5\\nSkipping line 377759: expected 2 fields, saw 5\\nSkipping line 379327: expected 2 fields, saw 5\\nSkipping line 380769: expected 2 fields, saw 5\\nSkipping line 381073: expected 2 fields, saw 5\\nSkipping line 381489: expected 2 fields, saw 5\\nSkipping line 386304: expected 2 fields, saw 5\\nSkipping line 387635: expected 2 fields, saw 5\\nSkipping line 389613: expected 2 fields, saw 5\\nSkipping line 392604: expected 2 fields, saw 5\\nSkipping line 393184: expected 2 fields, saw 5\\nSkipping line 395530: expected 2 fields, saw 5\\nSkipping line 396939: expected 2 fields, saw 5\\nSkipping line 397385: expected 2 fields, saw 5\\nSkipping line 397509: expected 2 fields, saw 5\\nSkipping line 402902: expected 2 fields, saw 5\\nSkipping line 405187: expected 2 fields, saw 5\\nSkipping line 408412: expected 2 fields, saw 5\\nSkipping line 419423: expected 2 fields, saw 5\\nSkipping line 420962: expected 2 fields, saw 5\\nSkipping line 425965: expected 2 fields, saw 5\\nSkipping line 427496: expected 2 fields, saw 5\\nSkipping line 438881: expected 2 fields, saw 5\\nSkipping line 439776: expected 2 fields, saw 5\\nSkipping line 440345: expected 2 fields, saw 5\\nSkipping line 445507: expected 2 fields, saw 5\\nSkipping line 445548: expected 2 fields, saw 5\\nSkipping line 447184: expected 2 fields, saw 5\\nSkipping line 448603: expected 2 fields, saw 5\\nSkipping line 451732: expected 2 fields, saw 5\\nSkipping line 458249: expected 2 fields, saw 5\\nSkipping line 460274: expected 2 fields, saw 5\\nSkipping line 467630: expected 2 fields, saw 5\\nSkipping line 473961: expected 2 fields, saw 5\\nSkipping line 476281: expected 2 fields, saw 5\\nSkipping line 478010: expected 2 fields, saw 5\\nSkipping line 478322: expected 2 fields, saw 5\\nSkipping line 479999: expected 2 fields, saw 5\\nSkipping line 480898: expected 2 fields, saw 5\\nSkipping line 481688: expected 2 fields, saw 5\\nSkipping line 485193: expected 2 fields, saw 5\\nSkipping line 485519: expected 2 fields, saw 5\\nSkipping line 486000: expected 2 fields, saw 5\\nSkipping line 489063: expected 2 fields, saw 5\\nSkipping line 494525: expected 2 fields, saw 5\\nSkipping line 495009: expected 2 fields, saw 5\\nSkipping line 501954: expected 2 fields, saw 5\\nSkipping line 508035: expected 2 fields, saw 5\\nSkipping line 508828: expected 2 fields, saw 5\\nSkipping line 509833: expected 2 fields, saw 5\\nSkipping line 510410: expected 2 fields, saw 5\\nSkipping line 518229: expected 2 fields, saw 5\\nSkipping line 520302: expected 2 fields, saw 5\\nSkipping line 520340: expected 2 fields, saw 5\\n'\n"
     ]
    },
    {
     "name": "stderr",
     "output_type": "stream",
     "text": [
      "b'Skipping line 525174: expected 2 fields, saw 5\\nSkipping line 526251: expected 2 fields, saw 5\\nSkipping line 529611: expected 2 fields, saw 5\\nSkipping line 531398: expected 2 fields, saw 5\\nSkipping line 534146: expected 2 fields, saw 5\\nSkipping line 544954: expected 2 fields, saw 5\\nSkipping line 553002: expected 2 fields, saw 5\\nSkipping line 553883: expected 2 fields, saw 5\\nSkipping line 553887: expected 2 fields, saw 5\\nSkipping line 553915: expected 2 fields, saw 5\\nSkipping line 554172: expected 2 fields, saw 5\\nSkipping line 563534: expected 2 fields, saw 5\\nSkipping line 565191: expected 2 fields, saw 5\\nSkipping line 574108: expected 2 fields, saw 5\\nSkipping line 574412: expected 2 fields, saw 5\\nSkipping line 575985: expected 2 fields, saw 5\\nSkipping line 580091: expected 2 fields, saw 5\\nSkipping line 582682: expected 2 fields, saw 5\\nSkipping line 585885: expected 2 fields, saw 5\\nSkipping line 590171: expected 2 fields, saw 5\\nSkipping line 591924: expected 2 fields, saw 5\\nSkipping line 592515: expected 2 fields, saw 5\\nSkipping line 593888: expected 2 fields, saw 5\\nSkipping line 596245: expected 2 fields, saw 5\\nSkipping line 607344: expected 2 fields, saw 5\\nSkipping line 607633: expected 2 fields, saw 5\\nSkipping line 610939: expected 2 fields, saw 5\\nSkipping line 613638: expected 2 fields, saw 5\\nSkipping line 615643: expected 2 fields, saw 5\\nSkipping line 615901: expected 2 fields, saw 5\\nSkipping line 617389: expected 2 fields, saw 5\\nSkipping line 634641: expected 2 fields, saw 5\\nSkipping line 635755: expected 2 fields, saw 5\\nSkipping line 646243: expected 2 fields, saw 5\\nSkipping line 647165: expected 2 fields, saw 5\\nSkipping line 648610: expected 2 fields, saw 5\\nSkipping line 648772: expected 2 fields, saw 5\\nSkipping line 651833: expected 2 fields, saw 5\\nSkipping line 653663: expected 2 fields, saw 5\\nSkipping line 656233: expected 2 fields, saw 5\\nSkipping line 656694: expected 2 fields, saw 5\\nSkipping line 659783: expected 2 fields, saw 5\\nSkipping line 660478: expected 2 fields, saw 5\\nSkipping line 661133: expected 2 fields, saw 5\\nSkipping line 661736: expected 2 fields, saw 5\\nSkipping line 669827: expected 2 fields, saw 5\\n'\n"
     ]
    }
   ],
   "source": [
    "dataset=pd.read_csv(\"data.csv\",error_bad_lines=False)"
   ]
  },
  {
   "cell_type": "code",
   "execution_count": 3,
   "id": "e5397e4f",
   "metadata": {},
   "outputs": [
    {
     "data": {
      "text/html": [
       "<div>\n",
       "<style scoped>\n",
       "    .dataframe tbody tr th:only-of-type {\n",
       "        vertical-align: middle;\n",
       "    }\n",
       "\n",
       "    .dataframe tbody tr th {\n",
       "        vertical-align: top;\n",
       "    }\n",
       "\n",
       "    .dataframe thead th {\n",
       "        text-align: right;\n",
       "    }\n",
       "</style>\n",
       "<table border=\"1\" class=\"dataframe\">\n",
       "  <thead>\n",
       "    <tr style=\"text-align: right;\">\n",
       "      <th></th>\n",
       "      <th>password</th>\n",
       "      <th>strength</th>\n",
       "    </tr>\n",
       "  </thead>\n",
       "  <tbody>\n",
       "    <tr>\n",
       "      <th>0</th>\n",
       "      <td>kzde5577</td>\n",
       "      <td>1</td>\n",
       "    </tr>\n",
       "    <tr>\n",
       "      <th>1</th>\n",
       "      <td>kino3434</td>\n",
       "      <td>1</td>\n",
       "    </tr>\n",
       "    <tr>\n",
       "      <th>2</th>\n",
       "      <td>visi7k1yr</td>\n",
       "      <td>1</td>\n",
       "    </tr>\n",
       "    <tr>\n",
       "      <th>3</th>\n",
       "      <td>megzy123</td>\n",
       "      <td>1</td>\n",
       "    </tr>\n",
       "    <tr>\n",
       "      <th>4</th>\n",
       "      <td>lamborghin1</td>\n",
       "      <td>1</td>\n",
       "    </tr>\n",
       "  </tbody>\n",
       "</table>\n",
       "</div>"
      ],
      "text/plain": [
       "      password  strength\n",
       "0     kzde5577         1\n",
       "1     kino3434         1\n",
       "2    visi7k1yr         1\n",
       "3     megzy123         1\n",
       "4  lamborghin1         1"
      ]
     },
     "execution_count": 3,
     "metadata": {},
     "output_type": "execute_result"
    }
   ],
   "source": [
    "##Lets check the head of our data\n",
    "dataset.head()"
   ]
  },
  {
   "cell_type": "code",
   "execution_count": 4,
   "id": "9613afad",
   "metadata": {},
   "outputs": [
    {
     "data": {
      "text/plain": [
       "(669640, 2)"
      ]
     },
     "execution_count": 4,
     "metadata": {},
     "output_type": "execute_result"
    }
   ],
   "source": [
    "##Lets check the shape of data\n",
    "dataset.shape"
   ]
  },
  {
   "cell_type": "code",
   "execution_count": 5,
   "id": "efd49b6c",
   "metadata": {},
   "outputs": [
    {
     "data": {
      "text/plain": [
       "array([1, 2, 0])"
      ]
     },
     "execution_count": 5,
     "metadata": {},
     "output_type": "execute_result"
    }
   ],
   "source": [
    "##Checking the unique values in strength\n",
    "dataset[\"strength\"].unique()"
   ]
  },
  {
   "cell_type": "markdown",
   "id": "9789e0bf",
   "metadata": {},
   "source": [
    "### There are only 3 classes in strength\n",
    "### 0->Password is weak\n",
    "### 1->Normal password\n",
    "### 2->Strong password"
   ]
  },
  {
   "cell_type": "code",
   "execution_count": 6,
   "id": "a1baa6f9",
   "metadata": {},
   "outputs": [
    {
     "name": "stdout",
     "output_type": "stream",
     "text": [
      "<class 'pandas.core.frame.DataFrame'>\n",
      "RangeIndex: 669640 entries, 0 to 669639\n",
      "Data columns (total 2 columns):\n",
      " #   Column    Non-Null Count   Dtype \n",
      "---  ------    --------------   ----- \n",
      " 0   password  669639 non-null  object\n",
      " 1   strength  669640 non-null  int64 \n",
      "dtypes: int64(1), object(1)\n",
      "memory usage: 10.2+ MB\n"
     ]
    }
   ],
   "source": [
    "dataset.info()"
   ]
  },
  {
   "cell_type": "code",
   "execution_count": 7,
   "id": "7c41e425",
   "metadata": {},
   "outputs": [
    {
     "data": {
      "text/plain": [
       "password    1\n",
       "strength    0\n",
       "dtype: int64"
      ]
     },
     "execution_count": 7,
     "metadata": {},
     "output_type": "execute_result"
    }
   ],
   "source": [
    "##Lets see if there are any null values in dataset\n",
    "dataset.isnull().sum()"
   ]
  },
  {
   "cell_type": "markdown",
   "id": "d56926a8",
   "metadata": {},
   "source": [
    "There is 1 null value in password"
   ]
  },
  {
   "cell_type": "code",
   "execution_count": 8,
   "id": "7af0d34f",
   "metadata": {},
   "outputs": [
    {
     "data": {
      "text/html": [
       "<div>\n",
       "<style scoped>\n",
       "    .dataframe tbody tr th:only-of-type {\n",
       "        vertical-align: middle;\n",
       "    }\n",
       "\n",
       "    .dataframe tbody tr th {\n",
       "        vertical-align: top;\n",
       "    }\n",
       "\n",
       "    .dataframe thead th {\n",
       "        text-align: right;\n",
       "    }\n",
       "</style>\n",
       "<table border=\"1\" class=\"dataframe\">\n",
       "  <thead>\n",
       "    <tr style=\"text-align: right;\">\n",
       "      <th></th>\n",
       "      <th>password</th>\n",
       "      <th>strength</th>\n",
       "    </tr>\n",
       "  </thead>\n",
       "  <tbody>\n",
       "    <tr>\n",
       "      <th>367579</th>\n",
       "      <td>NaN</td>\n",
       "      <td>0</td>\n",
       "    </tr>\n",
       "  </tbody>\n",
       "</table>\n",
       "</div>"
      ],
      "text/plain": [
       "       password  strength\n",
       "367579      NaN         0"
      ]
     },
     "execution_count": 8,
     "metadata": {},
     "output_type": "execute_result"
    }
   ],
   "source": [
    "##Lets check the record where our value is null\n",
    "dataset[dataset[\"password\"].isnull()]"
   ]
  },
  {
   "cell_type": "markdown",
   "id": "bea974b3",
   "metadata": {},
   "source": [
    "As there is only 1 record we can drop our nan values"
   ]
  },
  {
   "cell_type": "code",
   "execution_count": 9,
   "id": "dc00aeab",
   "metadata": {},
   "outputs": [],
   "source": [
    "dataset.dropna(inplace=True)"
   ]
  },
  {
   "cell_type": "code",
   "execution_count": 10,
   "id": "fb96f233",
   "metadata": {},
   "outputs": [
    {
     "data": {
      "text/plain": [
       "<AxesSubplot:xlabel='strength', ylabel='count'>"
      ]
     },
     "execution_count": 10,
     "metadata": {},
     "output_type": "execute_result"
    },
    {
     "data": {
      "image/png": "[encoded data removed]",
      "text/plain": [
       "<Figure size 576x576 with 1 Axes>"
      ]
     },
     "metadata": {
      "needs_background": "light"
     },
     "output_type": "display_data"
    }
   ],
   "source": [
    "plt.figure(figsize=(8,8))\n",
    "sns.countplot(dataset.strength)"
   ]
  },
  {
   "cell_type": "markdown",
   "id": "d251322c",
   "metadata": {},
   "source": [
    "As we can see count of class 1 is every high compared to class 0 and class 2"
   ]
  },
  {
   "cell_type": "code",
   "execution_count": 11,
   "id": "0fc6bbaa",
   "metadata": {},
   "outputs": [
    {
     "data": {
      "text/plain": [
       "array([['kzde5577', 1],\n",
       "       ['kino3434', 1],\n",
       "       ['visi7k1yr', 1],\n",
       "       ...,\n",
       "       ['184520socram', 1],\n",
       "       ['marken22a', 1],\n",
       "       ['fxx4pw4g', 1]], dtype=object)"
      ]
     },
     "execution_count": 11,
     "metadata": {},
     "output_type": "execute_result"
    }
   ],
   "source": [
    "##I'll convert my data to array\n",
    "password_=np.array(dataset)\n",
    "password_"
   ]
  },
  {
   "cell_type": "code",
   "execution_count": 12,
   "id": "fad8c132",
   "metadata": {},
   "outputs": [
    {
     "data": {
      "text/plain": [
       "numpy.ndarray"
      ]
     },
     "execution_count": 12,
     "metadata": {},
     "output_type": "execute_result"
    }
   ],
   "source": [
    "type(password_)"
   ]
  },
  {
   "cell_type": "code",
   "execution_count": 13,
   "id": "fa14244d",
   "metadata": {},
   "outputs": [
    {
     "data": {
      "text/plain": [
       "array(['kzde5577', 1], dtype=object)"
      ]
     },
     "execution_count": 13,
     "metadata": {},
     "output_type": "execute_result"
    }
   ],
   "source": [
    "password_[0]"
   ]
  },
  {
   "cell_type": "code",
   "execution_count": 14,
   "id": "b9ed0f5d",
   "metadata": {},
   "outputs": [
    {
     "data": {
      "text/plain": [
       "'kzde5577'"
      ]
     },
     "execution_count": 14,
     "metadata": {},
     "output_type": "execute_result"
    }
   ],
   "source": [
    "##Extracting the password from data\n",
    "password_[0][0]"
   ]
  },
  {
   "cell_type": "code",
   "execution_count": 17,
   "id": "96bcd7b2",
   "metadata": {},
   "outputs": [],
   "source": [
    "import random\n",
    "random.shuffle(password_)"
   ]
  },
  {
   "cell_type": "code",
   "execution_count": 18,
   "id": "f743c56e",
   "metadata": {},
   "outputs": [
    {
     "data": {
      "text/plain": [
       "array([['kzde5577', 1],\n",
       "       ['kzde5577', 1],\n",
       "       ['kzde5577', 1],\n",
       "       ...,\n",
       "       ['baligod02', 1],\n",
       "       ['ygapwutkj489', 1],\n",
       "       ['meriemassou15', 1]], dtype=object)"
      ]
     },
     "execution_count": 18,
     "metadata": {},
     "output_type": "execute_result"
    }
   ],
   "source": [
    "password_"
   ]
  },
  {
   "cell_type": "code",
   "execution_count": 19,
   "id": "bb923244",
   "metadata": {
    "scrolled": false
   },
   "outputs": [],
   "source": [
    "##Create my dependant and independant feature\n",
    "X=[passwords[0] for passwords in password_]\n",
    "y=[passwords[1] for passwords in password_]"
   ]
  },
  {
   "cell_type": "code",
   "execution_count": 20,
   "id": "cb3dee5d",
   "metadata": {},
   "outputs": [
    {
     "data": {
      "text/plain": [
       "['kzde5577',\n",
       " 'kzde5577',\n",
       " 'kzde5577',\n",
       " 'kzde5577',\n",
       " 'kzde5577',\n",
       " 'megzy123',\n",
       " 'visi7k1yr',\n",
       " 'megzy123',\n",
       " 'visi7k1yr',\n",
       " 'kino3434',\n",
       " 'megzy123',\n",
       " 'megzy123',\n",
       " 'u6c8vhow',\n",
       " 'lamborghin1',\n",
       " 'u6c8vhow',\n",
       " 'megzy123',\n",
       " 'lamborghin1',\n",
       " 'megzy123',\n",
       " 'lamborghin1',\n",
       " 'u6c8vhow',\n",
       " 'megzy123',\n",
       " 'kzde5577',\n",
       " 'jytifok873',\n",
       " 'megzy123',\n",
       " 'visi7k1yr',\n",
       " 'visi7k1yr',\n",
       " 'WUt9IZzE0OQ7PkNE',\n",
       " 'megzy123',\n",
       " 'lamborghin1',\n",
       " 'visi7k1yr',\n",
       " 'lamborghin1',\n",
       " 'megzy123',\n",
       " 'megzy123',\n",
       " 'asv5o9yu',\n",
       " 'lamborghin1',\n",
       " 'megzy123',\n",
       " 'prisonbreak1',\n",
       " 'visi7k1yr',\n",
       " '612035180tok',\n",
       " '612035180tok',\n",
       " 'kzde5577',\n",
       " 'asv5o9yu',\n",
       " 'cigicigi123',\n",
       " 'cigicigi123',\n",
       " 'visi7k1yr',\n",
       " 'sbl571017',\n",
       " 'fk9qi21m',\n",
       " 'as326159',\n",
       " 'universe2908',\n",
       " '6975038lp',\n",
       " 'prisonbreak1',\n",
       " 'u6c8vhow',\n",
       " 'as326159',\n",
       " 'visi7k1yr',\n",
       " 'visi7k1yr',\n",
       " 'jytifok873',\n",
       " 'WUt9IZzE0OQ7PkNE',\n",
       " 'visi7k1yr',\n",
       " 'sbl571017',\n",
       " 'as326159',\n",
       " 'as326159',\n",
       " 'sbl571017',\n",
       " 'jerusalem393',\n",
       " '0169395484a',\n",
       " 'sbl571017',\n",
       " 'jytifok873',\n",
       " 'lamborghin1',\n",
       " 'klara-tershina3H',\n",
       " 'visi7k1yr',\n",
       " 'as326159',\n",
       " 'lamborghin1',\n",
       " 'intel1',\n",
       " 'visi7k1yr',\n",
       " 'visi7k1yr',\n",
       " 'asv5o9yu',\n",
       " 'faranumar91',\n",
       " 'u6c8vhow',\n",
       " 'fk9qi21m',\n",
       " 'AVYq1lDE4MgAZfNt',\n",
       " 'schalke04',\n",
       " 'fahad123',\n",
       " 'visi7k1yr',\n",
       " '6975038lp',\n",
       " '612035180tok',\n",
       " 'fk9qi21m',\n",
       " 'gaymaids1',\n",
       " 'intel1',\n",
       " 'visi7k1yr',\n",
       " 'asv5o9yu',\n",
       " '612035180tok',\n",
       " 'fk9qi21m',\n",
       " 'fk9qi21m',\n",
       " '6975038lp',\n",
       " 'rntprns7',\n",
       " 'u6c8vhow',\n",
       " 'idofo673',\n",
       " 'u6c8vhow',\n",
       " 'v1118714',\n",
       " 'visi7k1yr',\n",
       " 'visi7k1yr',\n",
       " 'rntprns7',\n",
       " 'visi7k1yr',\n",
       " 'hodygid757',\n",
       " '612035180tok',\n",
       " 'fk9qi21m',\n",
       " 'il0vey0u',\n",
       " '612035180tok',\n",
       " 'go7kew7a2po',\n",
       " 'megzy123',\n",
       " 'sbl571017',\n",
       " 'kjkjkj1',\n",
       " 'schalke04',\n",
       " 'olmaz.',\n",
       " 'g067057895',\n",
       " 'lamborghin1',\n",
       " 'kzde5577',\n",
       " '612035180tok',\n",
       " '6975038lp',\n",
       " 'kVczcljg4OA25Aeb',\n",
       " 'WUt9IZzE0OQ7PkNE',\n",
       " 'lamborghin1',\n",
       " 'jytifok873',\n",
       " 'bgrvl80',\n",
       " '52558000aaa',\n",
       " 'trabajonet9',\n",
       " 'kVczcljg4OA25Aeb',\n",
       " '612035180tok',\n",
       " 'oekojWyH120063',\n",
       " 'hpqkoxsn5',\n",
       " 'lamborghin1',\n",
       " 'lamborghin1',\n",
       " 'gkrqjs6',\n",
       " 'prisonbreak1',\n",
       " 'kjkjkj1',\n",
       " 'lamborghin1',\n",
       " 'fk9qi21m',\n",
       " 'cesarmaio1',\n",
       " 'klara-tershina3H',\n",
       " 'olmaz.',\n",
       " 'as326159',\n",
       " 'lamborghin1',\n",
       " 'megzy123',\n",
       " 'bozoxik602',\n",
       " 'matiofox08',\n",
       " 'as326159',\n",
       " 'kunyukbabi69',\n",
       " '52558000aaa',\n",
       " 'cigicigi123',\n",
       " '612035180tok',\n",
       " '612035180tok',\n",
       " 'mickael12',\n",
       " '6975038lp',\n",
       " 'lamborghin1',\n",
       " 'u6c8vhow',\n",
       " 'jalal123456',\n",
       " 'as326159',\n",
       " 'sbl571017',\n",
       " 'asv5o9yu',\n",
       " '2021848709.',\n",
       " 'g067057895',\n",
       " 'hpqkoxsn5',\n",
       " 'cigicigi123',\n",
       " 'klara-tershina3H',\n",
       " 'prisonbreak1',\n",
       " 'kswa2mrv',\n",
       " 'j09000',\n",
       " 'sbl571017',\n",
       " 'w9209640',\n",
       " 'u6c8vhow',\n",
       " 'prisonbreak1',\n",
       " 'jytifok873',\n",
       " 'jytifok873',\n",
       " 'prisonbreak1',\n",
       " '612035180tok',\n",
       " 'klara-tershina3H',\n",
       " 'kswa2mrv',\n",
       " 'asv5o9yu',\n",
       " 'calcifer32',\n",
       " 'visi7k1yr',\n",
       " 'olmaz.',\n",
       " 'u6c8vhow',\n",
       " 'kunyukbabi69',\n",
       " 'kjkjkj1',\n",
       " '746xitEGiqObog',\n",
       " 'kunyukbabi69',\n",
       " 'w9209640',\n",
       " 'mmm23mm',\n",
       " 'bozoxik602',\n",
       " 'visi7k1yr',\n",
       " 'as326159',\n",
       " 'lamborghin1',\n",
       " '6tequila6',\n",
       " 'intel1',\n",
       " 'pHyqueDIyNQ8vmhb',\n",
       " 'warriors08',\n",
       " '52558000aaa',\n",
       " '3vszncp4',\n",
       " 'gill02',\n",
       " 'znbl5tj1',\n",
       " 'www32223222',\n",
       " 'olmaz.',\n",
       " 'pHyqueDIyNQ8vmhb',\n",
       " '123477889a',\n",
       " 'yk530mg8',\n",
       " 'kVczcljg4OA25Aeb',\n",
       " 'klara-tershina3H',\n",
       " 'jonothepoop1',\n",
       " '123477889a',\n",
       " '746xitEGiqObog',\n",
       " '612035180tok',\n",
       " 'yitbos77',\n",
       " 'cesarmaio1',\n",
       " 'cigicigi123',\n",
       " 'zgmfnwuq25',\n",
       " 'hpqkoxsn5',\n",
       " 'fahad123',\n",
       " 'kswa2mrv',\n",
       " 'yitbos77',\n",
       " '612035180tok',\n",
       " 'fahad123',\n",
       " 'olmaz.',\n",
       " 'kunyukbabi69',\n",
       " 'oekojWyH120063',\n",
       " 'gill02',\n",
       " 'yk530mg8',\n",
       " 'AVYq1lDE4MgAZfNt',\n",
       " 'yitbos77',\n",
       " 'mickael12',\n",
       " 'megzy123',\n",
       " 'kino3434',\n",
       " 'as326159',\n",
       " 'u6c8vhow',\n",
       " '6tequila6',\n",
       " 'megzy123',\n",
       " 'calcifer32',\n",
       " 'faranumar91',\n",
       " '612035180tok',\n",
       " 'matiofox08',\n",
       " 'znbl5tj1',\n",
       " 'g067057895',\n",
       " 'cigicigi123',\n",
       " 'klara-tershina3H',\n",
       " 'faranumar91',\n",
       " 'gkrqjs6',\n",
       " 'oekojWyH120063',\n",
       " 'as326159',\n",
       " 'bozoxik602',\n",
       " 'sarahi1628',\n",
       " 'fk9qi21m',\n",
       " '2fakjv',\n",
       " 'faranumar91',\n",
       " 'yllime123',\n",
       " 'ok>bdk',\n",
       " 'klara-tershina3H',\n",
       " '52558000aaa',\n",
       " 'klara-tershina3H',\n",
       " 'u6c8vhow',\n",
       " 'TyWM72UNEex8Q8Y',\n",
       " 'cesarmaio1',\n",
       " 'g3rappa',\n",
       " 'trabajonet9',\n",
       " 'pHyqueDIyNQ8vmhb',\n",
       " 'barra23',\n",
       " 'elyass15@ajilent-ci',\n",
       " 'lamborghin1',\n",
       " 'kunyukbabi69',\n",
       " 'yitbos77',\n",
       " 'kunyukbabi69',\n",
       " 'u6c8vhow',\n",
       " 'memjan123',\n",
       " 'ns2b0727',\n",
       " '2akira2',\n",
       " '612035180tok',\n",
       " 'intel1',\n",
       " 'franczuk33',\n",
       " '612035180tok',\n",
       " 'tin030201',\n",
       " 'www32223222',\n",
       " 'hpqkoxsn5',\n",
       " 'hpqkoxsn5',\n",
       " 'calcifer32',\n",
       " 'visi7k1yr',\n",
       " 'visi7k1yr',\n",
       " 'sbl571017',\n",
       " 'kjkjkj1',\n",
       " '5gzj5uf',\n",
       " 'intel1',\n",
       " 'portales1',\n",
       " 'kino3434',\n",
       " '746xitEGiqObog',\n",
       " 'zoobike04',\n",
       " 'jerusalem393',\n",
       " '3y6iwef2g6',\n",
       " 'klara-tershina3H',\n",
       " 'hodygid757',\n",
       " 'kunyukbabi69',\n",
       " 'juliel009',\n",
       " 'yuri110995',\n",
       " 's0xwym7h',\n",
       " 'mmm23mm',\n",
       " 'exitos2009',\n",
       " 'elyass15@ajilent-ci',\n",
       " 'idofo673',\n",
       " 'olmaz.',\n",
       " 'w9209640',\n",
       " 'k1k2k3k4k5k6',\n",
       " '746xitEGiqObog',\n",
       " 'klara-tershina3H',\n",
       " 'AVYq1lDE4MgAZfNt',\n",
       " 'hqh2eYjQxOQPYIsA',\n",
       " '6tequila6',\n",
       " 'fk9qi21m',\n",
       " 'j09000',\n",
       " '3vszncp4',\n",
       " 'kino3434',\n",
       " '123477889a',\n",
       " 'roxana1993',\n",
       " 'gaymaids1',\n",
       " 'universe2908',\n",
       " 'klara-tershina3H',\n",
       " 'ycqtgdso3',\n",
       " 'cesarmaio1',\n",
       " 'pablo321159',\n",
       " 'pikey231',\n",
       " 'hpqkoxsn5',\n",
       " 'WUt9IZzE0OQ7PkNE',\n",
       " 'znbl5tj1',\n",
       " 'kswa2mrv',\n",
       " 'puegwajy416',\n",
       " 'kunyukbabi69',\n",
       " 'owote852',\n",
       " 'lamborghin1',\n",
       " 'trabajonet9',\n",
       " 'jytifok873',\n",
       " '283671gus',\n",
       " 'mike09',\n",
       " 'edcmki90',\n",
       " 'zoobike04',\n",
       " 'owote852',\n",
       " 'elyass15@ajilent-ci',\n",
       " 'barra23',\n",
       " 'as326159',\n",
       " '2akira2',\n",
       " 'olmaz.',\n",
       " '3y6iwef2g6',\n",
       " 'ns2b0727',\n",
       " '3y6iwef2g6',\n",
       " '64959rodro',\n",
       " 'sbl571017',\n",
       " 'www32223222',\n",
       " 'owote852',\n",
       " 'ejeko677',\n",
       " '5gzj5uf',\n",
       " 'mazdarx7',\n",
       " 'olmaz.',\n",
       " 'memjan123',\n",
       " 'asv5o9yu',\n",
       " 'b4NbTxDEyNgG141J',\n",
       " 'cesarmaio1',\n",
       " 'rLLh4WDQ2OAWbDO5',\n",
       " '64959rodro',\n",
       " 'ubojig109',\n",
       " 'gdfn76',\n",
       " 'witek1709',\n",
       " '2akira2',\n",
       " 'hayhayq2',\n",
       " 'klara-tershina3H',\n",
       " 'edcmki90',\n",
       " 'g067057895',\n",
       " 'portales1',\n",
       " 'kswa2mrv',\n",
       " 'warriors08',\n",
       " 'intel1',\n",
       " 'as326159',\n",
       " 'yllime123',\n",
       " '147963asd',\n",
       " '2akira2',\n",
       " 'mike09',\n",
       " '3y6iwef2g6',\n",
       " 'nello11',\n",
       " '746xitEGiqObog',\n",
       " '123477889a',\n",
       " 'puegwajy416',\n",
       " 'kzde5577',\n",
       " 'YADHJIGSAWS11',\n",
       " 'pHyqueDIyNQ8vmhb',\n",
       " 'klara-tershina3H',\n",
       " 'kunyukbabi69',\n",
       " 'jytifok873',\n",
       " 'witek1709',\n",
       " 'calcifer32',\n",
       " 'puegwajy416',\n",
       " '1234159hero',\n",
       " 'jerusalem393',\n",
       " 'fk9qi21m',\n",
       " '64959rodro',\n",
       " 'folashade1',\n",
       " 'b4NbTxDEyNgG141J',\n",
       " 'znbl5tj1',\n",
       " 'ass359',\n",
       " 'schalke04',\n",
       " 'yllime123',\n",
       " 'p@sslng2diword',\n",
       " 'folashade1',\n",
       " '123477889a',\n",
       " 'cigicigi123',\n",
       " '123477889a',\n",
       " 'pHyqueDIyNQ8vmhb',\n",
       " '0169395484a',\n",
       " 'cesarmaio1',\n",
       " 'zoobike04',\n",
       " 'calcifer32',\n",
       " 'jytifok873',\n",
       " 'gkrqjs6',\n",
       " 'klara-tershina3H',\n",
       " 'asv5o9yu',\n",
       " 'yuri110995',\n",
       " 'zidadoh258',\n",
       " 'memjan123',\n",
       " 'visi7k1yr',\n",
       " 'gdfn76',\n",
       " 'mike09',\n",
       " 'metopelo1623',\n",
       " 'oekojWyH120063',\n",
       " 'kVczcljg4OA25Aeb',\n",
       " 'gkrqjs6',\n",
       " '123477889a',\n",
       " 'afavin964',\n",
       " 'zoobike04',\n",
       " 'krumbul123',\n",
       " 'klara-tershina3H',\n",
       " 'balamuc123',\n",
       " 'ajyrew547',\n",
       " 'hasan18',\n",
       " 'go7kew7a2po',\n",
       " 'gkrqjs6',\n",
       " '3y6iwef2g6',\n",
       " 'asv5o9yu',\n",
       " 'nK0yKXTU0NQHZE2e',\n",
       " 'yitbos77',\n",
       " 'faranumar91',\n",
       " 'klara-tershina3H',\n",
       " 'zgmfnwuq25',\n",
       " 'hqh2eYjQxOQPYIsA',\n",
       " 'elonex24',\n",
       " 'lamborghin1',\n",
       " 'gkrqjs6',\n",
       " 'okn9zp9o',\n",
       " '20Dgw7TQ0OQVdly7',\n",
       " 'u6c8vhow',\n",
       " 'marita1',\n",
       " 'w9209640',\n",
       " 'matiofox08',\n",
       " 'aquhih220',\n",
       " 'ikanez886',\n",
       " 'gkrqjs6',\n",
       " 'patri1973',\n",
       " '0870330135a',\n",
       " '2fakjv',\n",
       " 'b4NbTxDEyNgG141J',\n",
       " 'wuzyci421',\n",
       " 'mazdarx7',\n",
       " 'mazdarx7',\n",
       " 'ass359',\n",
       " 'caramelo9',\n",
       " 'zidadoh258',\n",
       " 'sbl571017',\n",
       " 'koabcswzt3',\n",
       " 'faranumar91',\n",
       " 'as326159',\n",
       " '6tequila6',\n",
       " 'bgrvl80',\n",
       " 'hodygid757',\n",
       " 'kino3434',\n",
       " 'pHyqueDIyNQ8vmhb',\n",
       " '631ihOZogELoVap',\n",
       " 'metopelo1623',\n",
       " '1ngaymuadong',\n",
       " 'as326159',\n",
       " 'calcifer32',\n",
       " 'IjUcOtYqAwel725',\n",
       " 'megzy123',\n",
       " 'jerusalem393',\n",
       " 'idofo673',\n",
       " 'yllime123',\n",
       " 'okn9zp9o',\n",
       " 'sbl571017',\n",
       " 's0xwym7h',\n",
       " 'juliel009',\n",
       " 'prisonbreak1',\n",
       " 'calcifer32',\n",
       " '0870330135a',\n",
       " '26522876p',\n",
       " 'njmania114',\n",
       " 'RqsuUsDYxNgr8T40',\n",
       " 'g067057895',\n",
       " 'elyass15@ajilent-ci',\n",
       " 'cigicigi123',\n",
       " 'ns2b0727',\n",
       " 'sbl571017',\n",
       " 'sbl571017',\n",
       " 'kino3434',\n",
       " '3vszncp4',\n",
       " 'z888888',\n",
       " 'YADHJIGSAWS11',\n",
       " 'w9209640',\n",
       " 'lamborghin1',\n",
       " '64959rodro',\n",
       " 'gdfn76',\n",
       " 'jr88072635',\n",
       " 'abizar08',\n",
       " '0169395484a',\n",
       " 'a2486315',\n",
       " '64959rodro',\n",
       " 'gozv3e5',\n",
       " 'change201',\n",
       " 'memjan123',\n",
       " 'shotiko18',\n",
       " 'snolyuj04',\n",
       " 'mazdarx7',\n",
       " 'klara-tershina3H',\n",
       " 'ycqtgdso3',\n",
       " 'rntprns7',\n",
       " 'w9209640',\n",
       " 'calcifer32',\n",
       " 'hasan18',\n",
       " '2fakjv',\n",
       " 'han19660120',\n",
       " 'krumbul123',\n",
       " '612035180tok',\n",
       " 'junaid5',\n",
       " 'password0880',\n",
       " 'franczuk33',\n",
       " '0870330135a',\n",
       " 'z888888',\n",
       " '64whbrb351',\n",
       " '1qa2ws3ed4r',\n",
       " 'change201',\n",
       " 'RPFUOUDQwMwVW0AS',\n",
       " '10Erjrlmebup0n',\n",
       " 'go7kew7a2po',\n",
       " 'gozv3e5',\n",
       " 'g3rappa',\n",
       " 'junaid5',\n",
       " 'balamuc123',\n",
       " '26522876p',\n",
       " 'bgrvl80',\n",
       " 'a0972986650',\n",
       " 'caramelo9',\n",
       " '238wofutUtIGyf',\n",
       " 'lamborghin1',\n",
       " '2akira2',\n",
       " 'fk9qi21m',\n",
       " 'v1118714',\n",
       " 'woon12',\n",
       " 'hasan18',\n",
       " 'schalke04',\n",
       " 'u03kz6ez',\n",
       " 'ikanez886',\n",
       " 'kzde5577',\n",
       " '123477889a',\n",
       " 'wycinu436',\n",
       " '10Erjrlmebup0n',\n",
       " 'ass359',\n",
       " '20Dgw7TQ0OQVdly7',\n",
       " 'sysoja794',\n",
       " 'cesarmaio1',\n",
       " 'xtswdypgh936',\n",
       " '612035180tok',\n",
       " 'elyass15@ajilent-ci',\n",
       " 's0xwym7h',\n",
       " '1katertje',\n",
       " 'pHyqueDIyNQ8vmhb',\n",
       " 'yitbos77',\n",
       " '1234159hero',\n",
       " 'warriors08',\n",
       " 'TyWM72UNEex8Q8Y',\n",
       " '4TXr5KDYxNQVTo4g',\n",
       " 'teemteem97',\n",
       " '0870330135a',\n",
       " 'u6c8vhow',\n",
       " '7mV0pKTA3MgHy8Jv',\n",
       " 'fk9qi21m',\n",
       " 'u03kz6ez',\n",
       " 'den019520',\n",
       " 'patty94',\n",
       " 'tomas7896',\n",
       " '20Dgw7TQ0OQVdly7',\n",
       " 'wibi182d',\n",
       " 'v1118714',\n",
       " 'olmaz.',\n",
       " '2fakjv',\n",
       " 'xyws951753',\n",
       " 'lamborghin1',\n",
       " 'oekojWyH120063',\n",
       " 'killer5',\n",
       " 'lamborghin1',\n",
       " 'gkrqjs6',\n",
       " '3y6iwef2g6',\n",
       " 'megzy123',\n",
       " 'omakiva153',\n",
       " 'krishna2',\n",
       " 'gozv3e5',\n",
       " 'gkrqjs6',\n",
       " '746xitEGiqObog',\n",
       " 'gill02',\n",
       " 'ubojig109',\n",
       " 'elyass15@ajilent-ci',\n",
       " 'faranumar91',\n",
       " 'khaled12',\n",
       " 'omakiva153',\n",
       " '123477889a',\n",
       " 'hodygid757',\n",
       " 'idofo673',\n",
       " 'g067057895',\n",
       " 'RPFUOUDQwMwVW0AS',\n",
       " 'c3h8bkzr',\n",
       " 'asv5o9yu',\n",
       " 'parent777',\n",
       " 'www32223222',\n",
       " 'cigicigi123',\n",
       " '1234159hero',\n",
       " 'z888888',\n",
       " 'fk9qi21m',\n",
       " 'g067057895',\n",
       " '26522876p',\n",
       " 'AS0130066',\n",
       " 'meopvywk628',\n",
       " '52558000aaa',\n",
       " '64959rodro',\n",
       " 'sbaUsoTA1OAzuevI',\n",
       " 'warriors08',\n",
       " 'aquhih220',\n",
       " '2021848709.',\n",
       " 'lrhxmevb620',\n",
       " 'fk9qi21m',\n",
       " 'password0880',\n",
       " 'megzy123',\n",
       " 'oatcake87',\n",
       " '283671gus',\n",
       " 'g067057895',\n",
       " 'TyWM72UNEex8Q8Y',\n",
       " 'ts34a3fodh3i',\n",
       " 'kswa2mrv',\n",
       " 'owote852',\n",
       " 'g067057895',\n",
       " 'nello11',\n",
       " 'memjan123',\n",
       " 'lamborghin1',\n",
       " '2akira2',\n",
       " 'memjan123',\n",
       " '2yz4ewwg',\n",
       " 'witek1709',\n",
       " 'cesarmaio1',\n",
       " 'yu4cmn',\n",
       " 'visi7k1yr',\n",
       " 'asv5o9yu',\n",
       " 'u03kz6ez',\n",
       " '147963asd',\n",
       " 'icap12',\n",
       " 'franczuk33',\n",
       " '5gzj5uf',\n",
       " 'sbl571017',\n",
       " 'kVczcljg4OA25Aeb',\n",
       " 'mazdarx7',\n",
       " 'universe2908',\n",
       " 'as326159',\n",
       " 'mohantra1',\n",
       " 'hodygid757',\n",
       " '248sUqiFEJuRag',\n",
       " '929865yt',\n",
       " 'patri1973',\n",
       " 'kino3434',\n",
       " '12345yolanda',\n",
       " 'xyws951753',\n",
       " 'kunyukbabi69',\n",
       " 'TyWM72UNEex8Q8Y',\n",
       " 'jr88072635',\n",
       " 'woon12',\n",
       " '0169395484a',\n",
       " 'franczuk33',\n",
       " 'clyioqzgw42',\n",
       " 'nello11',\n",
       " '147963asd',\n",
       " 'roxana1993',\n",
       " 'cigicigi123',\n",
       " 'mmm23mm',\n",
       " 'z888888',\n",
       " 'yk530mg8',\n",
       " 's0xwym7h',\n",
       " 'fk9qi21m',\n",
       " 'calcifer32',\n",
       " 'jonothepoop1',\n",
       " '6tequila6',\n",
       " 'vehat387',\n",
       " 'oatcake87',\n",
       " 'ubojig109',\n",
       " 'purpledog1992',\n",
       " '10Erjrlmebup0n',\n",
       " '123477889a',\n",
       " 'xW8-3w7-MFB-CKH',\n",
       " 'calcifer32',\n",
       " 'okn9zp9o',\n",
       " 'fahad123',\n",
       " 'u03kz6ez',\n",
       " 'pr0f1s10',\n",
       " 'warriors08',\n",
       " 'gkrqjs6',\n",
       " 'cesarmaio1',\n",
       " 'hodygid757',\n",
       " 'owote852',\n",
       " 'hpqkoxsn5',\n",
       " 'fr8OClDY1MAdEhHa',\n",
       " 'ajyrew547',\n",
       " 'patri1973',\n",
       " 'pHyqueDIyNQ8vmhb',\n",
       " 'yy4129',\n",
       " 'matiofox08',\n",
       " 'c3h8bkzr',\n",
       " 'memjan123',\n",
       " 'mazdarx7',\n",
       " 'faranumar91',\n",
       " 'AVYq1lDE4MgAZfNt',\n",
       " 'intel1',\n",
       " 'khmer100.03278&?><Mnb',\n",
       " 'go7kew7a2po',\n",
       " 's0xwym7h',\n",
       " 'zidadoh258',\n",
       " 'pr0f1s10',\n",
       " '20Dgw7TQ0OQVdly7',\n",
       " '20Dgw7TQ0OQVdly7',\n",
       " '52558000aaa',\n",
       " 'a0972986650',\n",
       " 'n501iomf',\n",
       " 'elonex24',\n",
       " 'krishna2',\n",
       " 'fr8OClDY1MAdEhHa',\n",
       " 'ejeko677',\n",
       " 'qwekl12',\n",
       " '612035180tok',\n",
       " 'Staterkom20081993',\n",
       " '123477889a',\n",
       " 'woon12',\n",
       " 'warriors08',\n",
       " 'xyws951753',\n",
       " 'u6c8vhow',\n",
       " 'megzy123',\n",
       " 'han19660120',\n",
       " 'woon12',\n",
       " 'z888888',\n",
       " 'woaini0',\n",
       " 'shotiko18',\n",
       " 'a2531106',\n",
       " 'matiofox08',\n",
       " 'bgrvl80',\n",
       " 'elyass15@ajilent-ci',\n",
       " 'gozv3e5',\n",
       " 'purpledog1992',\n",
       " 'xtswdypgh936',\n",
       " 'groster152',\n",
       " 'asv5o9yu',\n",
       " 'aslanmarco007',\n",
       " 'mashhood_afzal21087',\n",
       " 'arigato3',\n",
       " 'mashhood_afzal21087',\n",
       " 'q0pv0fk',\n",
       " 'elabadmin1386',\n",
       " '2akira2',\n",
       " 'yjuqseb416',\n",
       " '2fakjv',\n",
       " 'snolyuj04',\n",
       " 'kyxvufl37',\n",
       " 'fr8OClDY1MAdEhHa',\n",
       " 'buqodym199',\n",
       " 'MT766631',\n",
       " '612035180tok',\n",
       " 'www32223222',\n",
       " 'tspirits08',\n",
       " '0169395484a',\n",
       " 'matiofox08',\n",
       " 'uxyloga692',\n",
       " 'klara-tershina3H',\n",
       " 'u6c8vhow',\n",
       " '0870330135a',\n",
       " 'zgmfnwuq25',\n",
       " '3clrcaevu7',\n",
       " 'meriton23',\n",
       " 'pugceya468',\n",
       " 'matiofox08',\n",
       " 'gozv3e5',\n",
       " '33kanun03',\n",
       " 'finisterra1',\n",
       " '7mV0pKTA3MgHy8Jv',\n",
       " '12345yolanda',\n",
       " '3y6iwef2g6',\n",
       " 'kjkjkj1',\n",
       " 'alimagik1',\n",
       " 'yllime123',\n",
       " 'yy4129',\n",
       " 'pr0f1s10',\n",
       " 'yllime123',\n",
       " 'junaid5',\n",
       " 'xW8-3w7-MFB-CKH',\n",
       " 'schalke04',\n",
       " 'megzy123',\n",
       " 'alimagik1',\n",
       " 'bang6k',\n",
       " 'as326159',\n",
       " 'pato221182',\n",
       " 'purpledog1992',\n",
       " 'hasan18',\n",
       " 'z888888',\n",
       " 'jesmond26',\n",
       " 'olmaz.',\n",
       " 'schalke04',\n",
       " 'jcav26',\n",
       " 'pHyqueDIyNQ8vmhb',\n",
       " 'matiofox08',\n",
       " 'iubat09',\n",
       " 'beijing168',\n",
       " 'pilatyj280',\n",
       " 'wibi182d',\n",
       " 'kVczcljg4OA25Aeb',\n",
       " 'ram@!sita15392',\n",
       " 'k9b8cz6aj2',\n",
       " 'meriton23',\n",
       " 'rntprns7',\n",
       " 'jytifok873',\n",
       " '2akira2',\n",
       " 'znbl5tj1',\n",
       " 'calcifer32',\n",
       " 'aquhih220',\n",
       " 'oekojWyH120063',\n",
       " '090mca090',\n",
       " 'purpledog1992',\n",
       " 'fk9qi21m',\n",
       " 'intel1',\n",
       " 'hpqkoxsn5',\n",
       " '0VKWoODkwOAc0pZK',\n",
       " 'okn9zp9o',\n",
       " 'owote852',\n",
       " 'pikey231',\n",
       " 'deivid1991',\n",
       " 'kdl9cl53',\n",
       " 'yitbos77',\n",
       " 'terrassa6',\n",
       " 'yy4129',\n",
       " '23deagosto',\n",
       " 'warriors08',\n",
       " 'a0972986650',\n",
       " 'owary200',\n",
       " 'witek1709',\n",
       " 'p3rf3ct0',\n",
       " 'enziitoo1234',\n",
       " 'lsdlsd1',\n",
       " 'a0972986650',\n",
       " 'wuzyci421',\n",
       " 'yk530mg8',\n",
       " 'kswa2mrv',\n",
       " 'p@sslng2diword',\n",
       " 'bghuyku37',\n",
       " 'z3ro1sm',\n",
       " 'kino3434',\n",
       " 'a0972986650',\n",
       " 'ok>bdk',\n",
       " 'cigicigi123',\n",
       " 'bozoxik602',\n",
       " 'lamborghin1',\n",
       " 'ok>bdk',\n",
       " 'e667794c1d',\n",
       " '1ngaymuadong',\n",
       " 'WUt9IZzE0OQ7PkNE',\n",
       " 'acgyj188',\n",
       " 'gandhi8513',\n",
       " '23deagosto',\n",
       " 'karl88',\n",
       " 'megzy123',\n",
       " 'roxana1993',\n",
       " 'pastorius88',\n",
       " 'oscar2002',\n",
       " 'WUt9IZzE0OQ7PkNE',\n",
       " '2yz4ewwg',\n",
       " 'kswa2mrv',\n",
       " 'jr88072635',\n",
       " 'ldteugao6',\n",
       " 'buqodym199',\n",
       " 'faisal213',\n",
       " 'cigicigi123',\n",
       " 'hpqkoxsn5',\n",
       " 'jerusalem393',\n",
       " 'ydd45ee',\n",
       " 'wycinu436',\n",
       " '1qa2ws3ed4rf',\n",
       " '10Erjrlmebup0n',\n",
       " 'pastorius88',\n",
       " 'trabajonet9',\n",
       " 'ryjypes139',\n",
       " 'jUV4dSDQwNwPpA36',\n",
       " 'kunyukbabi69',\n",
       " 'rLLh4WDQ2OAWbDO5',\n",
       " 'matiofox08',\n",
       " 'gill02',\n",
       " 'barra23',\n",
       " 'gkrqjs6',\n",
       " 'franczuk33',\n",
       " 'olmaz.',\n",
       " 'twil8x0',\n",
       " '210496av',\n",
       " '248sUqiFEJuRag',\n",
       " 'teemteem97',\n",
       " 'zedika521',\n",
       " 'matiofox08',\n",
       " 'g067057895',\n",
       " '123456rajput',\n",
       " 'w9209640',\n",
       " 'yuri110995',\n",
       " 'yk530mg8',\n",
       " 'g067057895',\n",
       " 'koabcswzt3',\n",
       " 'lrhxmevb620',\n",
       " 'jerusalem393',\n",
       " 'ns2b0727',\n",
       " 'kswa2mrv',\n",
       " 'nLIGyhTU1NQTAp6u',\n",
       " 'tspirits08',\n",
       " 'metopelo1623',\n",
       " 'elonex24',\n",
       " 'krishna2',\n",
       " 'wisal1234',\n",
       " '2yz4ewwg',\n",
       " '4fqa52vecr',\n",
       " 'jorge1489',\n",
       " 'cifinew817',\n",
       " 'tomas7896',\n",
       " '52756652a',\n",
       " 'elperro1',\n",
       " 'yk530mg8',\n",
       " 'ns2b0727',\n",
       " 'y0unus',\n",
       " '2akira2',\n",
       " 'barboza221294',\n",
       " 'jonothepoop1',\n",
       " 'folashade1',\n",
       " 'kXzWOozU2MQ1Jv1h',\n",
       " 'pilatyj280',\n",
       " 'cockw0mble',\n",
       " 'yitbos77',\n",
       " 'ok>bdk',\n",
       " 'g067057895',\n",
       " 'bgrvl80',\n",
       " 'go7kew7a2po',\n",
       " 'elperro1',\n",
       " 'snolyuj04',\n",
       " 'www32223222',\n",
       " 'u03kz6ez',\n",
       " 'ejeko677',\n",
       " 'wasanun13',\n",
       " 'g067057895',\n",
       " 'hpqkoxsn5',\n",
       " 'b4NbTxDEyNgG141J',\n",
       " 'XqMB7vDMzOQocAFV',\n",
       " 'deivid1991',\n",
       " 'YADHJIGSAWS11',\n",
       " 'gedu1t1ah',\n",
       " 'owary200',\n",
       " 'go7kew7a2po',\n",
       " 'prisonbreak1',\n",
       " '2021848709.',\n",
       " 'YADHJIGSAWS11',\n",
       " 'vehat387',\n",
       " '6975038lp',\n",
       " '6tequila6',\n",
       " '763EBFC5',\n",
       " 'go7kew7a2po',\n",
       " 'omakiva153',\n",
       " '2010server',\n",
       " '612035180tok',\n",
       " 'lamborghin1',\n",
       " 'TyWM72UNEex8Q8Y',\n",
       " '2yz4ewwg',\n",
       " 'buqodym199',\n",
       " 'gdfn76',\n",
       " 'zgmfnwuq25',\n",
       " '147963asd',\n",
       " 'webstudio8',\n",
       " '9950twofour0',\n",
       " 'jalal123456',\n",
       " '4fqa52vecr',\n",
       " 'hisnipes1',\n",
       " 'ass359',\n",
       " 'xiau5ff',\n",
       " '20Dgw7TQ0OQVdly7',\n",
       " 'utuham322',\n",
       " 'hodygid757',\n",
       " 'terrassa6',\n",
       " 'il0vey0u',\n",
       " 'idofo673',\n",
       " '3y6iwef2g6',\n",
       " 'pastorius88',\n",
       " '746xitEGiqObog',\n",
       " ...]"
      ]
     },
     "execution_count": 20,
     "metadata": {},
     "output_type": "execute_result"
    }
   ],
   "source": [
    "##Lets check passwords\n",
    "X"
   ]
  },
  {
   "cell_type": "code",
   "execution_count": 21,
   "id": "d3efd6b8",
   "metadata": {},
   "outputs": [
    {
     "data": {
      "text/plain": [
       "list"
      ]
     },
     "execution_count": 21,
     "metadata": {},
     "output_type": "execute_result"
    }
   ],
   "source": [
    "type(X)"
   ]
  },
  {
   "cell_type": "code",
   "execution_count": 22,
   "id": "029cc615",
   "metadata": {},
   "outputs": [],
   "source": [
    "##Convert words into characters\n",
    "def make_chars(inputs):\n",
    "    characters=[]\n",
    "    for letter in inputs:\n",
    "        characters.append(letter)\n",
    "    return characters"
   ]
  },
  {
   "cell_type": "code",
   "execution_count": 23,
   "id": "0c59bfbb",
   "metadata": {},
   "outputs": [
    {
     "data": {
      "text/plain": [
       "['V', 'i', 'b', 'h', 'a', 'v']"
      ]
     },
     "execution_count": 23,
     "metadata": {},
     "output_type": "execute_result"
    }
   ],
   "source": [
    "make_chars(\"Vibhav\")"
   ]
  },
  {
   "cell_type": "code",
   "execution_count": 24,
   "id": "e737ef51",
   "metadata": {},
   "outputs": [],
   "source": [
    "vectorizer=TfidfVectorizer(tokenizer=make_chars)"
   ]
  },
  {
   "cell_type": "code",
   "execution_count": 25,
   "id": "7b15a7a6",
   "metadata": {},
   "outputs": [],
   "source": [
    "X_=vectorizer.fit_transform(X)"
   ]
  },
  {
   "cell_type": "code",
   "execution_count": 26,
   "id": "6b0e651e",
   "metadata": {},
   "outputs": [
    {
     "data": {
      "text/plain": [
       "(669639, 110)"
      ]
     },
     "execution_count": 26,
     "metadata": {},
     "output_type": "execute_result"
    }
   ],
   "source": [
    "X_.shape"
   ]
  },
  {
   "cell_type": "code",
   "execution_count": 27,
   "id": "36e9f064",
   "metadata": {},
   "outputs": [
    {
     "data": {
      "text/plain": [
       "['\\x05',\n",
       " '\\x08',\n",
       " '\\x17',\n",
       " '\\x19',\n",
       " '\\x1b',\n",
       " '\\x1c',\n",
       " ' ',\n",
       " '!',\n",
       " '\"',\n",
       " '#',\n",
       " '$',\n",
       " '%',\n",
       " '&',\n",
       " '(',\n",
       " ')',\n",
       " '*',\n",
       " '+',\n",
       " '-',\n",
       " '.',\n",
       " '/',\n",
       " '0',\n",
       " '1',\n",
       " '2',\n",
       " '3',\n",
       " '4',\n",
       " '5',\n",
       " '6',\n",
       " '7',\n",
       " '8',\n",
       " '9',\n",
       " ';',\n",
       " '<',\n",
       " '=',\n",
       " '>',\n",
       " '?',\n",
       " '@',\n",
       " '[',\n",
       " '\\\\',\n",
       " ']',\n",
       " '^',\n",
       " '_',\n",
       " '`',\n",
       " 'a',\n",
       " 'b',\n",
       " 'c',\n",
       " 'd',\n",
       " 'e',\n",
       " 'f',\n",
       " 'g',\n",
       " 'h',\n",
       " 'i',\n",
       " 'j',\n",
       " 'k',\n",
       " 'l',\n",
       " 'm',\n",
       " 'n',\n",
       " 'o',\n",
       " 'p',\n",
       " 'q',\n",
       " 'r',\n",
       " 's',\n",
       " 't',\n",
       " 'u',\n",
       " 'v',\n",
       " 'w',\n",
       " 'x',\n",
       " 'y',\n",
       " 'z',\n",
       " '{',\n",
       " '|',\n",
       " '}',\n",
       " '~',\n",
       " '\\x7f',\n",
       " '\\x8d',\n",
       " '¡',\n",
       " '«',\n",
       " '°',\n",
       " '±',\n",
       " '²',\n",
       " '³',\n",
       " '´',\n",
       " 'µ',\n",
       " '¶',\n",
       " '·',\n",
       " '¹',\n",
       " 'º',\n",
       " '¾',\n",
       " '¿',\n",
       " 'ß',\n",
       " 'à',\n",
       " 'á',\n",
       " 'â',\n",
       " 'ä',\n",
       " 'å',\n",
       " 'ç',\n",
       " 'ê',\n",
       " 'í',\n",
       " 'ð',\n",
       " 'ò',\n",
       " 'ó',\n",
       " 'ô',\n",
       " 'õ',\n",
       " '÷',\n",
       " 'ù',\n",
       " 'ú',\n",
       " 'ü',\n",
       " 'ý',\n",
       " 'þ',\n",
       " 'ÿ',\n",
       " '‚']"
      ]
     },
     "execution_count": 27,
     "metadata": {},
     "output_type": "execute_result"
    }
   ],
   "source": [
    "vectorizer.get_feature_names()"
   ]
  },
  {
   "cell_type": "code",
   "execution_count": 28,
   "id": "999e961f",
   "metadata": {},
   "outputs": [
    {
     "data": {
      "text/plain": [
       "<1x110 sparse matrix of type '<class 'numpy.float64'>'\n",
       "\twith 6 stored elements in Compressed Sparse Row format>"
      ]
     },
     "execution_count": 28,
     "metadata": {},
     "output_type": "execute_result"
    }
   ],
   "source": [
    "X_[0]"
   ]
  },
  {
   "cell_type": "code",
   "execution_count": 30,
   "id": "72398f85",
   "metadata": {},
   "outputs": [],
   "source": [
    "first_=X_[0].T.todense()"
   ]
  },
  {
   "cell_type": "code",
   "execution_count": 33,
   "id": "c3711691",
   "metadata": {},
   "outputs": [],
   "source": [
    "vec=pd.DataFrame(first_,index=vectorizer.get_feature_names(),columns=['tfidf'])"
   ]
  },
  {
   "cell_type": "code",
   "execution_count": 34,
   "id": "cfd1a732",
   "metadata": {
    "scrolled": true
   },
   "outputs": [
    {
     "data": {
      "text/html": [
       "<div>\n",
       "<style scoped>\n",
       "    .dataframe tbody tr th:only-of-type {\n",
       "        vertical-align: middle;\n",
       "    }\n",
       "\n",
       "    .dataframe tbody tr th {\n",
       "        vertical-align: top;\n",
       "    }\n",
       "\n",
       "    .dataframe thead th {\n",
       "        text-align: right;\n",
       "    }\n",
       "</style>\n",
       "<table border=\"1\" class=\"dataframe\">\n",
       "  <thead>\n",
       "    <tr style=\"text-align: right;\">\n",
       "      <th></th>\n",
       "      <th>tfidf</th>\n",
       "    </tr>\n",
       "  </thead>\n",
       "  <tbody>\n",
       "    <tr>\n",
       "      <th>\u0005</th>\n",
       "      <td>0.0</td>\n",
       "    </tr>\n",
       "    <tr>\n",
       "      <th>\b</th>\n",
       "      <td>0.0</td>\n",
       "    </tr>\n",
       "    <tr>\n",
       "      <th>\u0017</th>\n",
       "      <td>0.0</td>\n",
       "    </tr>\n",
       "    <tr>\n",
       "      <th>\u0019</th>\n",
       "      <td>0.0</td>\n",
       "    </tr>\n",
       "    <tr>\n",
       "      <th>\u001b</th>\n",
       "      <td>0.0</td>\n",
       "    </tr>\n",
       "    <tr>\n",
       "      <th>...</th>\n",
       "      <td>...</td>\n",
       "    </tr>\n",
       "    <tr>\n",
       "      <th>ü</th>\n",
       "      <td>0.0</td>\n",
       "    </tr>\n",
       "    <tr>\n",
       "      <th>ý</th>\n",
       "      <td>0.0</td>\n",
       "    </tr>\n",
       "    <tr>\n",
       "      <th>þ</th>\n",
       "      <td>0.0</td>\n",
       "    </tr>\n",
       "    <tr>\n",
       "      <th>ÿ</th>\n",
       "      <td>0.0</td>\n",
       "    </tr>\n",
       "    <tr>\n",
       "      <th>‚</th>\n",
       "      <td>0.0</td>\n",
       "    </tr>\n",
       "  </tbody>\n",
       "</table>\n",
       "<p>110 rows × 1 columns</p>\n",
       "</div>"
      ],
      "text/plain": [
       "    tfidf\n",
       "\u0005     0.0\n",
       "\b     0.0\n",
       "\u0017     0.0\n",
       "\u0019     0.0\n",
       "\u001b     0.0\n",
       "..    ...\n",
       "ü     0.0\n",
       "ý     0.0\n",
       "þ     0.0\n",
       "ÿ     0.0\n",
       "‚     0.0\n",
       "\n",
       "[110 rows x 1 columns]"
      ]
     },
     "execution_count": 34,
     "metadata": {},
     "output_type": "execute_result"
    }
   ],
   "source": [
    "vec"
   ]
  },
  {
   "cell_type": "code",
   "execution_count": 35,
   "id": "93ef9b4f",
   "metadata": {},
   "outputs": [
    {
     "data": {
      "text/html": [
       "<div>\n",
       "<style scoped>\n",
       "    .dataframe tbody tr th:only-of-type {\n",
       "        vertical-align: middle;\n",
       "    }\n",
       "\n",
       "    .dataframe tbody tr th {\n",
       "        vertical-align: top;\n",
       "    }\n",
       "\n",
       "    .dataframe thead th {\n",
       "        text-align: right;\n",
       "    }\n",
       "</style>\n",
       "<table border=\"1\" class=\"dataframe\">\n",
       "  <thead>\n",
       "    <tr style=\"text-align: right;\">\n",
       "      <th></th>\n",
       "      <th>tfidf</th>\n",
       "    </tr>\n",
       "  </thead>\n",
       "  <tbody>\n",
       "    <tr>\n",
       "      <th>7</th>\n",
       "      <td>0.592341</td>\n",
       "    </tr>\n",
       "    <tr>\n",
       "      <th>5</th>\n",
       "      <td>0.566258</td>\n",
       "    </tr>\n",
       "    <tr>\n",
       "      <th>z</th>\n",
       "      <td>0.335973</td>\n",
       "    </tr>\n",
       "    <tr>\n",
       "      <th>k</th>\n",
       "      <td>0.291184</td>\n",
       "    </tr>\n",
       "    <tr>\n",
       "      <th>d</th>\n",
       "      <td>0.286524</td>\n",
       "    </tr>\n",
       "    <tr>\n",
       "      <th>...</th>\n",
       "      <td>...</td>\n",
       "    </tr>\n",
       "    <tr>\n",
       "      <th>?</th>\n",
       "      <td>0.000000</td>\n",
       "    </tr>\n",
       "    <tr>\n",
       "      <th>&gt;</th>\n",
       "      <td>0.000000</td>\n",
       "    </tr>\n",
       "    <tr>\n",
       "      <th>=</th>\n",
       "      <td>0.000000</td>\n",
       "    </tr>\n",
       "    <tr>\n",
       "      <th>&lt;</th>\n",
       "      <td>0.000000</td>\n",
       "    </tr>\n",
       "    <tr>\n",
       "      <th>‚</th>\n",
       "      <td>0.000000</td>\n",
       "    </tr>\n",
       "  </tbody>\n",
       "</table>\n",
       "<p>110 rows × 1 columns</p>\n",
       "</div>"
      ],
      "text/plain": [
       "       tfidf\n",
       "7   0.592341\n",
       "5   0.566258\n",
       "z   0.335973\n",
       "k   0.291184\n",
       "d   0.286524\n",
       "..       ...\n",
       "?   0.000000\n",
       ">   0.000000\n",
       "=   0.000000\n",
       "<   0.000000\n",
       "‚   0.000000\n",
       "\n",
       "[110 rows x 1 columns]"
      ]
     },
     "execution_count": 35,
     "metadata": {},
     "output_type": "execute_result"
    }
   ],
   "source": [
    "vec.sort_values(by=['tfidf'],ascending=False)"
   ]
  },
  {
   "cell_type": "code",
   "execution_count": 36,
   "id": "445fb50d",
   "metadata": {},
   "outputs": [],
   "source": [
    "\n",
    "x_train,x_test,y_train,y_test=train_test_split(X_,y,test_size=0.27,random_state=42)"
   ]
  },
  {
   "cell_type": "code",
   "execution_count": 37,
   "id": "150b9498",
   "metadata": {},
   "outputs": [
    {
     "data": {
      "text/plain": [
       "((488836, 110), (180803, 110))"
      ]
     },
     "execution_count": 37,
     "metadata": {},
     "output_type": "execute_result"
    }
   ],
   "source": [
    "x_train.shape,x_test.shape"
   ]
  },
  {
   "cell_type": "code",
   "execution_count": 38,
   "id": "521ea39a",
   "metadata": {},
   "outputs": [],
   "source": [
    "#Model\n",
    "from sklearn.linear_model import LogisticRegression\n",
    "import xgboost as xgb\n",
    "from sklearn.naive_bayes import MultinomialNB\n",
    "from sklearn.model_selection import cross_val_score "
   ]
  },
  {
   "cell_type": "code",
   "execution_count": 39,
   "id": "ee3ff79c",
   "metadata": {},
   "outputs": [],
   "source": [
    "classifier=[]\n",
    "classifier.append(LogisticRegression(multi_class='ovr',n_jobs=-1))\n",
    "classifier.append(LogisticRegression(multi_class='multinomial',solver='newton-cg',n_jobs=-1))\n",
    "classifier.append(xgb.XGBClassifier(n_jobs=-1))\n",
    "classifier.append(MultinomialNB())"
   ]
  },
  {
   "cell_type": "code",
   "execution_count": 40,
   "id": "f4839f10",
   "metadata": {},
   "outputs": [
    {
     "data": {
      "text/plain": [
       "[LogisticRegression(multi_class='ovr', n_jobs=-1),\n",
       " LogisticRegression(multi_class='multinomial', n_jobs=-1, solver='newton-cg'),\n",
       " XGBClassifier(base_score=None, booster=None, colsample_bylevel=None,\n",
       "               colsample_bynode=None, colsample_bytree=None, gamma=None,\n",
       "               gpu_id=None, importance_type='gain', interaction_constraints=None,\n",
       "               learning_rate=None, max_delta_step=None, max_depth=None,\n",
       "               min_child_weight=None, missing=nan, monotone_constraints=None,\n",
       "               n_estimators=100, n_jobs=-1, num_parallel_tree=None,\n",
       "               random_state=None, reg_alpha=None, reg_lambda=None,\n",
       "               scale_pos_weight=None, subsample=None, tree_method=None,\n",
       "               validate_parameters=None, verbosity=None),\n",
       " MultinomialNB()]"
      ]
     },
     "execution_count": 40,
     "metadata": {},
     "output_type": "execute_result"
    }
   ],
   "source": [
    "classifier"
   ]
  },
  {
   "cell_type": "code",
   "execution_count": 41,
   "id": "54dbb5ae",
   "metadata": {},
   "outputs": [
    {
     "name": "stdout",
     "output_type": "stream",
     "text": [
      "[23:42:06] WARNING: ../src/learner.cc:1095: Starting in XGBoost 1.3.0, the default evaluation metric used with the objective 'multi:softprob' was changed from 'merror' to 'mlogloss'. Explicitly set eval_metric if you'd like to restore the old behavior.\n"
     ]
    }
   ],
   "source": [
    "result=[]\n",
    "for model in classifier:\n",
    "    a=model.fit(x_train,y_train)\n",
    "    result.append(a.score(x_test,y_test))"
   ]
  },
  {
   "cell_type": "code",
   "execution_count": 42,
   "id": "63fcbf88",
   "metadata": {},
   "outputs": [],
   "source": [
    "result1=pd.DataFrame({'score':result,\n",
    "                      'algorithms':['logistic_regr_ovr',\n",
    "                                    'logistic_regr_mutinomial',\n",
    "                                    'xgboost','naive bayes']})"
   ]
  },
  {
   "cell_type": "code",
   "execution_count": 43,
   "id": "a4eb16b2",
   "metadata": {},
   "outputs": [
    {
     "data": {
      "text/html": [
       "<div>\n",
       "<style scoped>\n",
       "    .dataframe tbody tr th:only-of-type {\n",
       "        vertical-align: middle;\n",
       "    }\n",
       "\n",
       "    .dataframe tbody tr th {\n",
       "        vertical-align: top;\n",
       "    }\n",
       "\n",
       "    .dataframe thead th {\n",
       "        text-align: right;\n",
       "    }\n",
       "</style>\n",
       "<table border=\"1\" class=\"dataframe\">\n",
       "  <thead>\n",
       "    <tr style=\"text-align: right;\">\n",
       "      <th></th>\n",
       "      <th>score</th>\n",
       "      <th>algorithms</th>\n",
       "    </tr>\n",
       "  </thead>\n",
       "  <tbody>\n",
       "    <tr>\n",
       "      <th>0</th>\n",
       "      <td>0.812171</td>\n",
       "      <td>logistic_regr_ovr</td>\n",
       "    </tr>\n",
       "    <tr>\n",
       "      <th>1</th>\n",
       "      <td>0.818941</td>\n",
       "      <td>logistic_regr_mutinomial</td>\n",
       "    </tr>\n",
       "    <tr>\n",
       "      <th>2</th>\n",
       "      <td>0.990039</td>\n",
       "      <td>xgboost</td>\n",
       "    </tr>\n",
       "    <tr>\n",
       "      <th>3</th>\n",
       "      <td>0.742908</td>\n",
       "      <td>naive bayes</td>\n",
       "    </tr>\n",
       "  </tbody>\n",
       "</table>\n",
       "</div>"
      ],
      "text/plain": [
       "      score                algorithms\n",
       "0  0.812171         logistic_regr_ovr\n",
       "1  0.818941  logistic_regr_mutinomial\n",
       "2  0.990039                   xgboost\n",
       "3  0.742908               naive bayes"
      ]
     },
     "execution_count": 43,
     "metadata": {},
     "output_type": "execute_result"
    }
   ],
   "source": [
    "result1"
   ]
  },
  {
   "cell_type": "code",
   "execution_count": 44,
   "id": "a3a5d2e8",
   "metadata": {},
   "outputs": [
    {
     "data": {
      "image/png": "[encoded data removed]",
      "text/plain": [
       "<Figure size 576x576 with 1 Axes>"
      ]
     },
     "metadata": {
      "needs_background": "light"
     },
     "output_type": "display_data"
    }
   ],
   "source": [
    "plt.figure(figsize=(8,8))\n",
    "a=sns.barplot('score','algorithms',data=result1)\n",
    "a.set_label('accuracy')"
   ]
  },
  {
   "cell_type": "markdown",
   "id": "82bf52cd",
   "metadata": {},
   "source": [
    "As we can see that XGBoost performs good for that given data "
   ]
  },
  {
   "cell_type": "code",
   "execution_count": 45,
   "id": "06857141",
   "metadata": {},
   "outputs": [],
   "source": [
    "xgb_classifier=xgb.XGBClassifier(n_jobs=-1)"
   ]
  },
  {
   "cell_type": "code",
   "execution_count": 46,
   "id": "6a332b9d",
   "metadata": {},
   "outputs": [
    {
     "name": "stdout",
     "output_type": "stream",
     "text": [
      "[23:47:50] WARNING: ../src/learner.cc:1095: Starting in XGBoost 1.3.0, the default evaluation metric used with the objective 'multi:softprob' was changed from 'merror' to 'mlogloss'. Explicitly set eval_metric if you'd like to restore the old behavior.\n"
     ]
    },
    {
     "data": {
      "text/plain": [
       "XGBClassifier(base_score=0.5, booster='gbtree', colsample_bylevel=1,\n",
       "              colsample_bynode=1, colsample_bytree=1, gamma=0, gpu_id=-1,\n",
       "              importance_type='gain', interaction_constraints='',\n",
       "              learning_rate=0.300000012, max_delta_step=0, max_depth=6,\n",
       "              min_child_weight=1, missing=nan, monotone_constraints='()',\n",
       "              n_estimators=100, n_jobs=-1, num_parallel_tree=1,\n",
       "              objective='multi:softprob', random_state=0, reg_alpha=0,\n",
       "              reg_lambda=1, scale_pos_weight=None, subsample=1,\n",
       "              tree_method='exact', validate_parameters=1, verbosity=None)"
      ]
     },
     "execution_count": 46,
     "metadata": {},
     "output_type": "execute_result"
    }
   ],
   "source": [
    "xgb_classifier.fit(x_train,y_train)"
   ]
  },
  {
   "cell_type": "code",
   "execution_count": 47,
   "id": "77359dd1",
   "metadata": {},
   "outputs": [],
   "source": [
    "pred=xgb_classifier.predict(x_test)"
   ]
  },
  {
   "cell_type": "code",
   "execution_count": 48,
   "id": "e7549302",
   "metadata": {},
   "outputs": [],
   "source": [
    "from sklearn.metrics import confusion_matrix,classification_report"
   ]
  },
  {
   "cell_type": "code",
   "execution_count": 49,
   "id": "675a9a76",
   "metadata": {},
   "outputs": [
    {
     "data": {
      "text/plain": [
       "array([[ 23829,    781,      0],\n",
       "       [   637, 133256,    112],\n",
       "       [     4,    267,  21917]])"
      ]
     },
     "execution_count": 49,
     "metadata": {},
     "output_type": "execute_result"
    }
   ],
   "source": [
    "confusion_matrix(y_test,pred)"
   ]
  },
  {
   "cell_type": "code",
   "execution_count": 51,
   "id": "2757901a",
   "metadata": {},
   "outputs": [
    {
     "name": "stdout",
     "output_type": "stream",
     "text": [
      "              precision    recall  f1-score   support\n",
      "\n",
      "           0       0.97      0.97      0.97     24610\n",
      "           1       0.99      0.99      0.99    134005\n",
      "           2       0.99      0.99      0.99     22188\n",
      "\n",
      "    accuracy                           0.99    180803\n",
      "   macro avg       0.99      0.98      0.99    180803\n",
      "weighted avg       0.99      0.99      0.99    180803\n",
      "\n"
     ]
    }
   ],
   "source": [
    "print(classification_report(y_test,pred))"
   ]
  },
  {
   "cell_type": "code",
   "execution_count": null,
   "id": "d40648de",
   "metadata": {},
   "outputs": [],
   "source": [
    "# import dill\n",
    "# model_file=open(\"xgb_classifier.pkl\",\"wb\")\n",
    "# dill.dump(xgb_classifier,model_file)\n",
    "# model_file.close()"
   ]
  },
  {
   "cell_type": "code",
   "execution_count": null,
   "id": "af969f39",
   "metadata": {},
   "outputs": [],
   "source": [
    "# dill.dump(vectorizer, open(\"vectorizer.pkl\", \"wb\"))"
   ]
  },
  {
   "cell_type": "code",
   "execution_count": 56,
   "id": "3fce7cd0",
   "metadata": {},
   "outputs": [],
   "source": [
    "password=\"abc123@ABC\""
   ]
  },
  {
   "cell_type": "code",
   "execution_count": 57,
   "id": "f77a9259",
   "metadata": {},
   "outputs": [],
   "source": [
    "password=vectorizer.transform([password])"
   ]
  },
  {
   "cell_type": "code",
   "execution_count": 58,
   "id": "71971eef",
   "metadata": {},
   "outputs": [
    {
     "data": {
      "text/plain": [
       "array([1])"
      ]
     },
     "execution_count": 58,
     "metadata": {},
     "output_type": "execute_result"
    }
   ],
   "source": [
    "xgb_classifier.predict(password)"
   ]
  },
  {
   "cell_type": "code",
   "execution_count": 60,
   "id": "b83aaf3b",
   "metadata": {},
   "outputs": [],
   "source": [
    "a=xgb_classifier.predict_proba(password)"
   ]
  },
  {
   "cell_type": "code",
   "execution_count": 61,
   "id": "0773da56",
   "metadata": {},
   "outputs": [
    {
     "data": {
      "text/plain": [
       "array([[0.00857309, 0.90893614, 0.08249082]], dtype=float32)"
      ]
     },
     "execution_count": 61,
     "metadata": {},
     "output_type": "execute_result"
    }
   ],
   "source": [
    "a"
   ]
  },
  {
   "cell_type": "code",
   "execution_count": 63,
   "id": "b9b0e70b",
   "metadata": {},
   "outputs": [
    {
     "data": {
      "text/plain": [
       "0.90893614"
      ]
     },
     "execution_count": 63,
     "metadata": {},
     "output_type": "execute_result"
    }
   ],
   "source": [
    "a[0][1]"
   ]
  },
  {
   "cell_type": "code",
   "execution_count": null,
   "id": "f46db67a",
   "metadata": {},
   "outputs": [],
   "source": []
  }
 ],
 "metadata": {
  "kernelspec": {
   "display_name": "Python 3",
   "language": "python",
   "name": "python3"
  },
  "language_info": {
   "codemirror_mode": {
    "name": "ipython",
    "version": 3
   },
   "file_extension": ".py",
   "mimetype": "text/x-python",
   "name": "python",
   "nbconvert_exporter": "python",
   "pygments_lexer": "ipython3",
   "version": "3.9.5"
  }
 },
 "nbformat": 4,
 "nbformat_minor": 5
}
